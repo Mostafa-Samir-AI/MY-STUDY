{
 "cells": [
  {
   "cell_type": "markdown",
   "id": "a472db43",
   "metadata": {},
   "source": [
    "# python revesion"
   ]
  },
  {
   "cell_type": "markdown",
   "id": "b7c13df5",
   "metadata": {},
   "source": [
    "## Variables"
   ]
  },
  {
   "cell_type": "code",
   "execution_count": 1,
   "id": "f786bab7",
   "metadata": {},
   "outputs": [],
   "source": [
    "# variables\n",
    "'''\n",
    " - variabels are references for a location in the memory that stores a values\n",
    "'''\n",
    "\n",
    "x = 10"
   ]
  },
  {
   "cell_type": "code",
   "execution_count": 2,
   "id": "1df5afab",
   "metadata": {},
   "outputs": [
    {
     "name": "stdout",
     "output_type": "stream",
     "text": [
      "10\n"
     ]
    }
   ],
   "source": [
    "print(x)"
   ]
  },
  {
   "cell_type": "code",
   "execution_count": 3,
   "id": "8e6a1005",
   "metadata": {},
   "outputs": [],
   "source": [
    "# dataypes in python\n",
    "\n",
    "number1 = 4\n",
    "number2 = 10.5\n",
    "\n",
    "name = \"mostafa\"\n",
    "boolean = True"
   ]
  },
  {
   "cell_type": "code",
   "execution_count": 4,
   "id": "672dddba",
   "metadata": {},
   "outputs": [
    {
     "name": "stdout",
     "output_type": "stream",
     "text": [
      "<class 'int'>\n",
      "<class 'float'>\n",
      "<class 'str'>\n",
      "<class 'bool'>\n"
     ]
    }
   ],
   "source": [
    "print(type(number1))\n",
    "print(type(number2))\n",
    "print(type(name))\n",
    "print(type(boolean))"
   ]
  },
  {
   "cell_type": "code",
   "execution_count": 5,
   "id": "99dc5810",
   "metadata": {},
   "outputs": [
    {
     "name": "stdout",
     "output_type": "stream",
     "text": [
      "True 5 mostafa\n"
     ]
    }
   ],
   "source": [
    "# assign more than one variavble in one line\n",
    "\n",
    "a , b , c = True , 5 , \"mostafa\"\n",
    "print(a,b,c)"
   ]
  },
  {
   "cell_type": "code",
   "execution_count": 6,
   "id": "2bb5d830",
   "metadata": {},
   "outputs": [],
   "source": [
    "#  deleting a variable from the memory\n",
    "# using the function del(variabel)\n",
    "\n",
    "del(x)"
   ]
  },
  {
   "cell_type": "code",
   "execution_count": 7,
   "id": "8d46c527",
   "metadata": {
    "scrolled": true
   },
   "outputs": [],
   "source": [
    "# when we try to print x again\n",
    "\n",
    "# print(x) # x is mot defined"
   ]
  },
  {
   "cell_type": "code",
   "execution_count": 8,
   "id": "5467bf71",
   "metadata": {},
   "outputs": [],
   "source": [
    "# complex numbers\n",
    "\n",
    "comp = 3+4j"
   ]
  },
  {
   "cell_type": "code",
   "execution_count": 9,
   "id": "969499e4",
   "metadata": {},
   "outputs": [
    {
     "data": {
      "text/plain": [
       "3"
      ]
     },
     "execution_count": 9,
     "metadata": {},
     "output_type": "execute_result"
    }
   ],
   "source": [
    "# _ variable\n",
    "# it contains the last value that You did not store in a varaible\n",
    "\n",
    "10//3"
   ]
  },
  {
   "cell_type": "code",
   "execution_count": 10,
   "id": "328d690c",
   "metadata": {},
   "outputs": [
    {
     "data": {
      "text/plain": [
       "3"
      ]
     },
     "execution_count": 10,
     "metadata": {},
     "output_type": "execute_result"
    }
   ],
   "source": [
    "_"
   ]
  },
  {
   "cell_type": "code",
   "execution_count": 11,
   "id": "c50fca67",
   "metadata": {},
   "outputs": [
    {
     "name": "stdout",
     "output_type": "stream",
     "text": [
      "Variable   Type       Data/Info\n",
      "-------------------------------\n",
      "a          bool       True\n",
      "b          int        5\n",
      "boolean    bool       True\n",
      "c          str        mostafa\n",
      "comp       complex    (3+4j)\n",
      "name       str        mostafa\n",
      "number1    int        4\n",
      "number2    float      10.5\n"
     ]
    }
   ],
   "source": [
    "# finding all variables in the memory\n",
    "\n",
    "%whos"
   ]
  },
  {
   "cell_type": "code",
   "execution_count": 12,
   "id": "deb8cd90",
   "metadata": {},
   "outputs": [
    {
     "data": {
      "text/plain": [
       "'\\n - camel notation: FirstVariabels \\n - \\n'"
      ]
     },
     "execution_count": 12,
     "metadata": {},
     "output_type": "execute_result"
    }
   ],
   "source": [
    "# variables names\n",
    "\n",
    "'''\n",
    " - can only begin with _ only \n",
    " - otherwise it will start with caharacters \n",
    " - no numbers or special characters \n",
    " \n",
    "'''\n",
    "\n",
    "'''\n",
    " - camel notation: FirstVariabels \n",
    " - \n",
    "'''"
   ]
  },
  {
   "cell_type": "markdown",
   "id": "f74e158a",
   "metadata": {},
   "source": [
    "## Arithmetic Operators"
   ]
  },
  {
   "cell_type": "code",
   "execution_count": 13,
   "id": "d87fc495",
   "metadata": {},
   "outputs": [
    {
     "data": {
      "text/plain": [
       "'\\n - + : for string is used for cancatenation\\n'"
      ]
     },
     "execution_count": 13,
     "metadata": {},
     "output_type": "execute_result"
    }
   ],
   "source": [
    "# arithmatic operators\n",
    "\n",
    "'''\n",
    " - = : assignment\n",
    " - - : subtraction\n",
    " - + : addtion\n",
    " - * : multiply\n",
    " - / : division\n",
    " - //: floor division\n",
    " - % : reminder\n",
    " - **: power\n",
    " - j : complex numbers\n",
    "'''\n",
    "\n",
    "'''\n",
    " - + : for string is used for cancatenation\n",
    "'''"
   ]
  },
  {
   "cell_type": "markdown",
   "id": "13deabda",
   "metadata": {},
   "source": [
    "## BOOL Datatype Comparison Operators"
   ]
  },
  {
   "cell_type": "code",
   "execution_count": 14,
   "id": "834133d9",
   "metadata": {},
   "outputs": [
    {
     "data": {
      "text/plain": [
       "'\\n*return bool values --> {True , False}*\\n - == : equals to\\n - != : not equal to \\n - >  : bigger than\\n - <  : less than\\n - >= : bigger than or equal\\n - <= : less than or equal\\n'"
      ]
     },
     "execution_count": 14,
     "metadata": {},
     "output_type": "execute_result"
    }
   ],
   "source": [
    "# comparison operators\n",
    "'''\n",
    "*return bool values --> {True , False}*\n",
    " - == : equals to\n",
    " - != : not equal to \n",
    " - >  : bigger than\n",
    " - <  : less than\n",
    " - >= : bigger than or equal\n",
    " - <= : less than or equal\n",
    "'''"
   ]
  },
  {
   "cell_type": "code",
   "execution_count": 15,
   "id": "df1fd082",
   "metadata": {},
   "outputs": [
    {
     "data": {
      "text/plain": [
       "True"
      ]
     },
     "execution_count": 15,
     "metadata": {},
     "output_type": "execute_result"
    }
   ],
   "source": [
    "not(False)"
   ]
  },
  {
   "cell_type": "code",
   "execution_count": 16,
   "id": "a26aff76",
   "metadata": {},
   "outputs": [
    {
     "name": "stdout",
     "output_type": "stream",
     "text": [
      "False\n"
     ]
    }
   ],
   "source": [
    "# quiz\n",
    "\n",
    "print((not(2!=3) and True) or (False and True))"
   ]
  },
  {
   "cell_type": "code",
   "execution_count": 17,
   "id": "7d19be8a",
   "metadata": {},
   "outputs": [
    {
     "data": {
      "text/plain": [
       "5"
      ]
     },
     "execution_count": 17,
     "metadata": {},
     "output_type": "execute_result"
    }
   ],
   "source": [
    "# round function\n",
    "\n",
    "round(4.6) # .5 is floor while more than .5 is ceil "
   ]
  },
  {
   "cell_type": "code",
   "execution_count": 18,
   "id": "06408cca",
   "metadata": {},
   "outputs": [
    {
     "data": {
      "text/plain": [
       "4.255"
      ]
     },
     "execution_count": 18,
     "metadata": {},
     "output_type": "execute_result"
    }
   ],
   "source": [
    "round(4.25485 , 3) # rounding at the digit 3 after the dot "
   ]
  },
  {
   "cell_type": "code",
   "execution_count": 19,
   "id": "6d57ccb0",
   "metadata": {},
   "outputs": [
    {
     "data": {
      "text/plain": [
       "(10, 1)"
      ]
     },
     "execution_count": 19,
     "metadata": {},
     "output_type": "execute_result"
    }
   ],
   "source": [
    "# divmod ==>return quotient and reminder\n",
    "# returns tuple datatype\n",
    "\n",
    "divmod(31 , 3) # (Q , R)"
   ]
  },
  {
   "cell_type": "code",
   "execution_count": 20,
   "id": "e349165b",
   "metadata": {},
   "outputs": [],
   "source": [
    "def QR(number , dividor):\n",
    "    result = divmod(number , dividor)\n",
    "    return f\"quotient will equal {result[0]} and the reminder will equal {result[1]}\""
   ]
  },
  {
   "cell_type": "code",
   "execution_count": 21,
   "id": "4beb964f",
   "metadata": {},
   "outputs": [
    {
     "data": {
      "text/plain": [
       "'quotient will equal 6 and the reminder will equal 4'"
      ]
     },
     "execution_count": 21,
     "metadata": {},
     "output_type": "execute_result"
    }
   ],
   "source": [
    "QR(34,5)"
   ]
  },
  {
   "cell_type": "code",
   "execution_count": 22,
   "id": "b49145c3",
   "metadata": {},
   "outputs": [
    {
     "data": {
      "text/plain": [
       "True"
      ]
     },
     "execution_count": 22,
     "metadata": {},
     "output_type": "execute_result"
    }
   ],
   "source": [
    "# isinstance --> check if the given datatype belongs to the class given or not\n",
    "# return bool value \n",
    "\n",
    "isinstance(1 , int)"
   ]
  },
  {
   "cell_type": "code",
   "execution_count": 23,
   "id": "58dc3836",
   "metadata": {},
   "outputs": [
    {
     "data": {
      "text/plain": [
       "False"
      ]
     },
     "execution_count": 23,
     "metadata": {},
     "output_type": "execute_result"
    }
   ],
   "source": [
    "isinstance(1.0 , bool)"
   ]
  },
  {
   "cell_type": "code",
   "execution_count": 24,
   "id": "a583d03d",
   "metadata": {},
   "outputs": [
    {
     "data": {
      "text/plain": [
       "True"
      ]
     },
     "execution_count": 24,
     "metadata": {},
     "output_type": "execute_result"
    }
   ],
   "source": [
    "isinstance({} , dict)"
   ]
  },
  {
   "cell_type": "code",
   "execution_count": 25,
   "id": "6fcdac31",
   "metadata": {},
   "outputs": [
    {
     "data": {
      "text/plain": [
       "False"
      ]
     },
     "execution_count": 25,
     "metadata": {},
     "output_type": "execute_result"
    }
   ],
   "source": [
    "isinstance({} , set)"
   ]
  },
  {
   "cell_type": "code",
   "execution_count": 26,
   "id": "d50c3ca1",
   "metadata": {},
   "outputs": [
    {
     "data": {
      "text/plain": [
       "True"
      ]
     },
     "execution_count": 26,
     "metadata": {},
     "output_type": "execute_result"
    }
   ],
   "source": [
    "isinstance(set({}) , set)"
   ]
  },
  {
   "cell_type": "code",
   "execution_count": 27,
   "id": "d379098c",
   "metadata": {},
   "outputs": [
    {
     "data": {
      "text/plain": [
       "3"
      ]
     },
     "execution_count": 27,
     "metadata": {},
     "output_type": "execute_result"
    }
   ],
   "source": [
    "# power function --> when it takes 3 parameters it preform a different function\n",
    "# pow(a,b,c) ==> a**b %c \n",
    "\n",
    "pow(3,5,5) # the result is the reminder of the power"
   ]
  },
  {
   "cell_type": "code",
   "execution_count": 28,
   "id": "eff35d30",
   "metadata": {},
   "outputs": [
    {
     "name": "stdout",
     "output_type": "stream",
     "text": [
      "Enter Ur name: \n",
      "mostafa samir\n"
     ]
    },
    {
     "data": {
      "text/plain": [
       "'mostafa samir'"
      ]
     },
     "execution_count": 28,
     "metadata": {},
     "output_type": "execute_result"
    }
   ],
   "source": [
    "# input function --> accepts the input as a string\n",
    "\n",
    "name = input(\"Enter Ur name: \\n\")\n",
    "name"
   ]
  },
  {
   "cell_type": "markdown",
   "id": "a6293028",
   "metadata": {},
   "source": [
    "## Conditional statement and control flow"
   ]
  },
  {
   "cell_type": "code",
   "execution_count": 29,
   "id": "f4bfcffb",
   "metadata": {},
   "outputs": [],
   "source": [
    "# requiring help for any function\n",
    "input??"
   ]
  },
  {
   "cell_type": "code",
   "execution_count": 30,
   "id": "7526463a",
   "metadata": {},
   "outputs": [
    {
     "name": "stdout",
     "output_type": "stream",
     "text": [
      "Enter number1:\n",
      "24\n",
      "Enter number2:\n",
      "24\n",
      "\n",
      "\n",
      "24\n"
     ]
    }
   ],
   "source": [
    "a = int(input(\"Enter number1:\\n\"))\n",
    "b = int(input(\"Enter number2:\\n\"))\n",
    "print('\\n')\n",
    "\n",
    "if a>b:\n",
    "    print(a)\n",
    "else:\n",
    "    print(b)"
   ]
  },
  {
   "cell_type": "code",
   "execution_count": 31,
   "id": "33b5a238",
   "metadata": {},
   "outputs": [
    {
     "name": "stdout",
     "output_type": "stream",
     "text": [
      "ID\n"
     ]
    }
   ],
   "source": [
    "# elif \n",
    "\n",
    "if False:\n",
    "    print(\"hello\")\n",
    "elif True:\n",
    "    print(\"ID\")"
   ]
  },
  {
   "cell_type": "code",
   "execution_count": 32,
   "id": "8789cb26",
   "metadata": {},
   "outputs": [
    {
     "data": {
      "text/plain": [
       "'/home/darsh/Desktop/AI/python_practice'"
      ]
     },
     "execution_count": 32,
     "metadata": {},
     "output_type": "execute_result"
    }
   ],
   "source": [
    "pwd"
   ]
  },
  {
   "cell_type": "code",
   "execution_count": 33,
   "id": "d232d0ad",
   "metadata": {},
   "outputs": [
    {
     "name": "stdout",
     "output_type": "stream",
     "text": [
      "rev_python.ipynb\r\n"
     ]
    }
   ],
   "source": [
    "ls"
   ]
  },
  {
   "cell_type": "code",
   "execution_count": 34,
   "id": "3f4512d9",
   "metadata": {},
   "outputs": [
    {
     "name": "stdout",
     "output_type": "stream",
     "text": [
      "\u001b[H\u001b[2J"
     ]
    }
   ],
   "source": [
    "clear"
   ]
  },
  {
   "cell_type": "markdown",
   "id": "e544edc4",
   "metadata": {},
   "source": [
    "## Loops"
   ]
  },
  {
   "cell_type": "markdown",
   "id": "03791cf9",
   "metadata": {},
   "source": [
    "### While loop"
   ]
  },
  {
   "cell_type": "code",
   "execution_count": 47,
   "id": "b7619ff2",
   "metadata": {},
   "outputs": [
    {
     "name": "stdout",
     "output_type": "stream",
     "text": [
      "Enter your age:\n",
      "13\n",
      "you are not adult\n",
      "Enter your age:\n",
      "12\n",
      "you are not adult\n",
      "Enter your age:\n",
      "24\n",
      "you are now adult\n"
     ]
    }
   ],
   "source": [
    "# while loop \n",
    "'''\n",
    " - repeat a block of code until the condition is not true\n",
    "'''\n",
    "age = int(input(\"Enter your age:\\n\"))\n",
    "while age < 18 :\n",
    "    print(\"you are not adult\")\n",
    "    age = int(input(\"Enter your age:\\n\"))\n",
    "    if age >= 18:\n",
    "        print(\"you are now adult\")\n"
   ]
  },
  {
   "cell_type": "markdown",
   "id": "cb3ba808",
   "metadata": {},
   "source": [
    "### For loop"
   ]
  },
  {
   "cell_type": "code",
   "execution_count": 48,
   "id": "512752c1",
   "metadata": {},
   "outputs": [
    {
     "name": "stdout",
     "output_type": "stream",
     "text": [
      "Enter a day: 29\n",
      "\n",
      "\n",
      "this is day 29\n",
      "this is day 30\n"
     ]
    }
   ],
   "source": [
    "# for loop is used to repeat a block of code for a while\n",
    "# for loops have else\n",
    "\n",
    "day = int(input(\"Enter a day: \"))\n",
    "print(\"\\n\")\n",
    "for i in range(day , 31):\n",
    "    print(f\"this is day {i}\")\n",
    "    i +=1"
   ]
  },
  {
   "cell_type": "code",
   "execution_count": 37,
   "id": "fc05f7dc",
   "metadata": {},
   "outputs": [
    {
     "data": {
      "text/plain": [
       "'\\n- pass     : do nothing\\n- continue : skip this loop\\n- break    : break out of the loop\\n'"
      ]
     },
     "execution_count": 37,
     "metadata": {},
     "output_type": "execute_result"
    }
   ],
   "source": [
    "# keywords used in loops\n",
    "'''\n",
    "- pass     : do nothing\n",
    "- continue : skip this loop\n",
    "- break    : break out of the loop\n",
    "'''"
   ]
  },
  {
   "cell_type": "code",
   "execution_count": 38,
   "id": "71e3403a",
   "metadata": {},
   "outputs": [],
   "source": [
    "# printing even days\n",
    "even_days = []\n",
    "for i in range(1,32):\n",
    "    if i%2 == 0:\n",
    "        even_days.append(i)\n",
    "    else:\n",
    "        pass"
   ]
  },
  {
   "cell_type": "code",
   "execution_count": 39,
   "id": "cd98889b",
   "metadata": {},
   "outputs": [
    {
     "data": {
      "text/plain": [
       "[2, 4, 6, 8, 10, 12, 14, 16, 18, 20, 22, 24, 26, 28, 30]"
      ]
     },
     "execution_count": 39,
     "metadata": {},
     "output_type": "execute_result"
    }
   ],
   "source": [
    "even_days"
   ]
  },
  {
   "cell_type": "code",
   "execution_count": 40,
   "id": "4da6091a",
   "metadata": {},
   "outputs": [
    {
     "name": "stdout",
     "output_type": "stream",
     "text": [
      "-5\n",
      "3\n",
      "8\n",
      "1\n"
     ]
    }
   ],
   "source": [
    "# quiz\n",
    "\n",
    "# sorting a list ascending\n",
    "l = [1,2,4,-5,7,9,3,2]\n",
    "\n",
    "# finding the smallest number\n",
    "m = l[0]\n",
    "idx = 0\n",
    "c = 0\n",
    "count = 0\n",
    "for i in l:\n",
    "    if i<m:\n",
    "        m = i\n",
    "        idx = c\n",
    "        count+=1\n",
    "    c+=1\n",
    "\n",
    "print(m)   # value_min /value_f/\n",
    "print(idx) # index_min /index_f/\n",
    "print(c)\n",
    "print(count)"
   ]
  },
  {
   "cell_type": "code",
   "execution_count": 41,
   "id": "0e6bbf18",
   "metadata": {},
   "outputs": [
    {
     "data": {
      "text/plain": [
       "'\\n    l[idx] = value of first\\n    l[0] = value of min \\n'"
      ]
     },
     "execution_count": 41,
     "metadata": {},
     "output_type": "execute_result"
    }
   ],
   "source": [
    "'''\n",
    " - index of first : 0\n",
    " - value of first : 1\n",
    " \n",
    " - index of min   : idx\n",
    " - value of min   : -5 \n",
    "'''\n",
    "\n",
    "'''\n",
    "    l[idx] = value of first\n",
    "    l[0] = value of min \n",
    "'''"
   ]
  },
  {
   "cell_type": "code",
   "execution_count": 42,
   "id": "30c180b4",
   "metadata": {},
   "outputs": [],
   "source": [
    "# replacing the first element with the smallest element\n",
    "\n",
    "# value of first element\n",
    "temp = l[0]\n",
    "\n",
    "# update the value of first element\n",
    "l[0] = m\n",
    "\n",
    "# swap value of min with the first element\n",
    "l[idx] = temp"
   ]
  },
  {
   "cell_type": "code",
   "execution_count": 43,
   "id": "79553b14",
   "metadata": {},
   "outputs": [
    {
     "data": {
      "text/plain": [
       "[-5, 2, 4, 1, 7, 9, 3, 2]"
      ]
     },
     "execution_count": 43,
     "metadata": {},
     "output_type": "execute_result"
    }
   ],
   "source": [
    "l"
   ]
  },
  {
   "cell_type": "code",
   "execution_count": 44,
   "id": "030ef675",
   "metadata": {},
   "outputs": [],
   "source": [
    "l = [1,2,4,-5,7,9,3,2]\n",
    "\n",
    "# iterate according to no.elements in the list \n",
    "for j in range(len(l)):\n",
    "    # intial a minimal value == first list value\n",
    "    m = l[j]\n",
    "    # giving an intial value for the index\n",
    "    idx = j\n",
    "    # counter fot the loop \n",
    "    c = j\n",
    "    for i in range(j,len(l)):\n",
    "        if l[i] < m :\n",
    "            m = l[i]\n",
    "            idx = c\n",
    "        c+=1\n",
    "    temp = l[j]\n",
    "    l[j] = m\n",
    "    l[idx] = temp"
   ]
  },
  {
   "cell_type": "code",
   "execution_count": 45,
   "id": "b0cedec7",
   "metadata": {},
   "outputs": [
    {
     "data": {
      "text/plain": [
       "[-5, 1, 2, 2, 3, 4, 7, 9]"
      ]
     },
     "execution_count": 45,
     "metadata": {},
     "output_type": "execute_result"
    }
   ],
   "source": [
    "l"
   ]
  },
  {
   "cell_type": "markdown",
   "id": "b4b206d6",
   "metadata": {},
   "source": [
    "# Functions"
   ]
  },
  {
   "cell_type": "code",
   "execution_count": 49,
   "id": "8ee2ed90",
   "metadata": {},
   "outputs": [],
   "source": [
    "# defining function\n",
    "\n",
    "def print_task():\n",
    "    print(\"successful task\")\n",
    "    print(\"moving to the next task\")"
   ]
  },
  {
   "cell_type": "code",
   "execution_count": 50,
   "id": "3db5e46a",
   "metadata": {},
   "outputs": [
    {
     "name": "stdout",
     "output_type": "stream",
     "text": [
      "successful task\n",
      "moving to the next task\n"
     ]
    }
   ],
   "source": [
    "# calling function\n",
    "\n",
    "print_task()"
   ]
  },
  {
   "cell_type": "code",
   "execution_count": 52,
   "id": "406c4d56",
   "metadata": {},
   "outputs": [],
   "source": [
    "# doc strings \n",
    "\n",
    "'''\n",
    " - one way of describing how the function work\n",
    "'''\n",
    "\n",
    "def print_success():\n",
    "    '''\n",
    "     - function to print success\n",
    "    '''\n",
    "    print(\"success\")\n"
   ]
  },
  {
   "cell_type": "code",
   "execution_count": 53,
   "id": "4a63a4a6",
   "metadata": {},
   "outputs": [
    {
     "name": "stdout",
     "output_type": "stream",
     "text": [
      "success\n"
     ]
    }
   ],
   "source": [
    "print_success()"
   ]
  },
  {
   "cell_type": "code",
   "execution_count": 63,
   "id": "2971aae2",
   "metadata": {},
   "outputs": [],
   "source": [
    "print_success?"
   ]
  },
  {
   "cell_type": "code",
   "execution_count": 66,
   "id": "b99103e6",
   "metadata": {},
   "outputs": [],
   "source": [
    "print_success??"
   ]
  },
  {
   "cell_type": "code",
   "execution_count": 56,
   "id": "d994ef15",
   "metadata": {},
   "outputs": [
    {
     "name": "stdout",
     "output_type": "stream",
     "text": [
      "Help on function print_success in module __main__:\n",
      "\n",
      "print_success()\n",
      "    - function to print success\n",
      "\n"
     ]
    }
   ],
   "source": [
    "help(print_success)"
   ]
  },
  {
   "cell_type": "markdown",
   "id": "85a37224",
   "metadata": {},
   "source": [
    "### input argument"
   ]
  },
  {
   "cell_type": "code",
   "execution_count": 68,
   "id": "549ee2e4",
   "metadata": {},
   "outputs": [],
   "source": [
    "'''\n",
    " - passing an argument or parameter to the function as an input \n",
    "'''\n",
    "\n",
    "def second_func(age):\n",
    "    return age+2"
   ]
  },
  {
   "cell_type": "code",
   "execution_count": 69,
   "id": "57734f60",
   "metadata": {},
   "outputs": [
    {
     "data": {
      "text/plain": [
       "26"
      ]
     },
     "execution_count": 69,
     "metadata": {},
     "output_type": "execute_result"
    }
   ],
   "source": [
    "second_func(24)"
   ]
  },
  {
   "cell_type": "code",
   "execution_count": 73,
   "id": "1c87ede2",
   "metadata": {},
   "outputs": [],
   "source": [
    "def print_msg(msg1 , msg2):\n",
    "    return msg1 , msg2"
   ]
  },
  {
   "cell_type": "code",
   "execution_count": 74,
   "id": "4df9c923",
   "metadata": {},
   "outputs": [
    {
     "data": {
      "text/plain": [
       "('hello', 5)"
      ]
     },
     "execution_count": 74,
     "metadata": {},
     "output_type": "execute_result"
    }
   ],
   "source": [
    "print_msg(\"hello\" , 5)"
   ]
  },
  {
   "cell_type": "code",
   "execution_count": null,
   "id": "64db4040",
   "metadata": {},
   "outputs": [],
   "source": []
  },
  {
   "cell_type": "code",
   "execution_count": null,
   "id": "22f23c8f",
   "metadata": {},
   "outputs": [],
   "source": []
  },
  {
   "cell_type": "code",
   "execution_count": null,
   "id": "7931a2b8",
   "metadata": {},
   "outputs": [],
   "source": []
  },
  {
   "cell_type": "code",
   "execution_count": null,
   "id": "505c509d",
   "metadata": {},
   "outputs": [],
   "source": []
  },
  {
   "cell_type": "code",
   "execution_count": null,
   "id": "8e03826c",
   "metadata": {},
   "outputs": [],
   "source": []
  },
  {
   "cell_type": "code",
   "execution_count": null,
   "id": "ddbb263e",
   "metadata": {},
   "outputs": [],
   "source": []
  }
 ],
 "metadata": {
  "kernelspec": {
   "display_name": "Python 3 (ipykernel)",
   "language": "python",
   "name": "python3"
  },
  "language_info": {
   "codemirror_mode": {
    "name": "ipython",
    "version": 3
   },
   "file_extension": ".py",
   "mimetype": "text/x-python",
   "name": "python",
   "nbconvert_exporter": "python",
   "pygments_lexer": "ipython3",
   "version": "3.11.5"
  }
 },
 "nbformat": 4,
 "nbformat_minor": 5
}
